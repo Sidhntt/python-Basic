{
  "nbformat": 4,
  "nbformat_minor": 0,
  "metadata": {
    "colab": {
      "provenance": []
    },
    "kernelspec": {
      "name": "python3",
      "display_name": "Python 3"
    },
    "language_info": {
      "name": "python"
    }
  },
  "cells": [
    {
      "cell_type": "code",
      "execution_count": null,
      "metadata": {
        "id": "D1azdE428pVu"
      },
      "outputs": [],
      "source": []
    },
    {
      "cell_type": "markdown",
      "source": [
        "#Python Basic\n",
        "\n"
      ],
      "metadata": {
        "id": "X0RQvGXKE4nw"
      }
    },
    {
      "cell_type": "code",
      "source": [],
      "metadata": {
        "id": "hBy7wpHgFMCt"
      },
      "execution_count": null,
      "outputs": []
    },
    {
      "cell_type": "markdown",
      "source": [
        "Python Basics Questions\n",
        "Q.1 What is Python, and why is it popular?\n",
        " - Python is a high-level, interpreted programming language known for its readability and simplicity. It is popular due to its extensive libraries, versatility, and ease of use.\n",
        "\n",
        "Q.2What is an interpreter in Python?\n",
        " - An interpreter is a program that executes Python code line by line instead of compiling it beforehand.\n",
        "\n",
        "Q.3 What are pre-defined keywords in Python?\n",
        " - Pre-defined keywords in Python are reserved words that have special meanings, such as if, else, while, for, def, class, import, etc.\n",
        "\n",
        "Q.4 Can keywords be used as variable names?\n",
        " - No, keywords cannot be used as variable names because they are reserved by Python.\n",
        "\n",
        "Q.5 What is mutability in Python?\n",
        " - Mutability refers to whether an object can be changed after its creation. Mutable objects can be modified e.g lists, while immutable objects cannot be changed e.g. tuples, strings.\n",
        "\n",
        "Q.6 Why are lists mutable, but tuples are immutable?\n",
        " - Lists allow modifications like adding or removing elements, whereas tuples are designed to be immutable, meaning their elements cannot be changed after assignment.\n",
        "\n",
        "Q.7 What is the difference between == and is operators in Python?\n",
        "\n",
        " - == checks for value equality whether two variables hold the same data.\n",
        "is checks for identity equality whether two variables reference the same memory location.\n",
        "\n",
        "Q.8 What are logical operators in Python?\n",
        " - Logical operators are used to combine conditional statements:\n",
        "\n",
        "and: Returns True if both conditions are true.\n",
        "or: Returns True if at least one condition is true.\n",
        "not: Returns True if the condition is false.\n",
        "\n",
        "Q.9 What is type casting in Python?\n",
        " - Type casting is the process of converting one data type into another, such as converting a string into an integer using int().\n",
        "\n",
        "Q.10 What is the difference between implicit and explicit type casting?\n",
        " - Implicit type casting is done automatically by Python e.g. int to float.\n",
        "Explicit type casting is manually performed by the programmer e.g. float(10).\n",
        "\n",
        "Q.11 What is the purpose of conditional statements in Python?\n",
        " - Conditional statements (if, elif, else) allow the execution of specific blocks of code based on conditions.\n",
        "\n",
        "Q.12 How does the elif statement work?\n",
        " - The elif (else if) statement allows checking multiple conditions sequentially. If the first if condition is false, elif statements are checked.\n",
        "\n",
        "Q.13 What is the difference between for and while loops?\n",
        " - for loops are used when the number of iterations is known.\n",
        "while loops are used when iterations depend on a condition.\n",
        "\n",
        "Q.14 Describe a scenario where a while loop is more suitable than a for loop.\n",
        " - A while loop is more suitable when you don’t know the number of iterations beforehand, such as reading user input until they enter \"exit\"."
      ],
      "metadata": {
        "id": "F3lJWexzFNY1"
      }
    },
    {
      "cell_type": "code",
      "source": [
        "# Write a Python program to print \"Hello, World!\n",
        "print(\"Hello, World!\")"
      ],
      "metadata": {
        "id": "cbhu1yboIodf"
      },
      "execution_count": null,
      "outputs": []
    },
    {
      "cell_type": "code",
      "source": [
        "# Write a Python program that displays your name and age\n",
        "name = \"Siddhant Bodele\"\n",
        "age = 22\n",
        "print(f\"My name is {name} and I am {age} years old.\")\n"
      ],
      "metadata": {
        "id": "j47ohJRSJZHQ"
      },
      "execution_count": null,
      "outputs": []
    },
    {
      "cell_type": "code",
      "source": [
        "# Write code to print all the pre-defined keywords in Python using the keyword library8\n",
        "import keyword\n",
        "print(keyword.kwlist)"
      ],
      "metadata": {
        "id": "9p8hYTMJJiie"
      },
      "execution_count": null,
      "outputs": []
    },
    {
      "cell_type": "code",
      "source": [
        "# Write a program that checks if a given word is a Python keyword\n",
        "import keyword\n",
        "word = input(\"enter a word\")\n",
        "if keyword.iskeyword(word):\n",
        "    print(f\"{word} is a Python keyword.\")\n",
        "else:\n",
        "    print(f\"{word} is not a Python keyword.\")"
      ],
      "metadata": {
        "id": "W9El7yY0JrwU"
      },
      "execution_count": null,
      "outputs": []
    },
    {
      "cell_type": "code",
      "source": [
        "''' Create a list and tuple in Python, and demonstrate how attempting to change an element works differently\n",
        "for each.'''\n",
        "my_list = [1, 2, 3]\n",
        "my_tuple = (1, 2, 3)\n",
        "\n",
        "my_list[0] = 10\n",
        "# my_tuple[0] = 10\n",
        "print(my_list, my_tuple)\n"
      ],
      "metadata": {
        "id": "IYULm8PVKOEs"
      },
      "execution_count": null,
      "outputs": []
    },
    {
      "cell_type": "code",
      "source": [
        "# Write a program that performs basic arithmetic operations on two user-input numbers.\n",
        "a = int(input(\"Enter first number: \"))\n",
        "b = int(input(\"Enter second number: \"))\n",
        "print(f\"Sum: {a + b}, Difference: {a - b}, Product: {a * b}, Quotient: {a / b}\")\n"
      ],
      "metadata": {
        "id": "5IjX7LEfK8kA"
      },
      "execution_count": null,
      "outputs": []
    },
    {
      "cell_type": "code",
      "source": [
        "# Write a program to demonstrate the use of logical operators.\n",
        "a, b = True, False\n",
        "print(a and b, a or b, not a)\n"
      ],
      "metadata": {
        "id": "N-KyiGbWLis_"
      },
      "execution_count": null,
      "outputs": []
    },
    {
      "cell_type": "code",
      "source": [
        "# Write a Python program to convert user input from string to integer, float, and boolean types.\n",
        "string_input = input(\"Enter a string: \")\n",
        "int_output = int(string_input)\n",
        "float_output = float(string_input)\n",
        "bool_output = bool(string_input)"
      ],
      "metadata": {
        "id": "fz7xW51JLqGO"
      },
      "execution_count": null,
      "outputs": []
    },
    {
      "cell_type": "code",
      "source": [
        "# Write a program that checks if a number is positive, negative, or zero\n",
        "num = int(input(\"Enter a number: \"))\n",
        "if num > 0:\n",
        "    print(\"Positive\")\n",
        "elif num < 0:\n",
        "    print(\"Negative\")\n",
        "else:\n",
        "    print(\"Zero\")"
      ],
      "metadata": {
        "id": "fsgsOqvbL-Ih"
      },
      "execution_count": null,
      "outputs": []
    },
    {
      "cell_type": "code",
      "source": [
        "# Write a for loop to print numbers from 1 to 10.\n",
        "for i in range(1,11):\n",
        "  print(i)"
      ],
      "metadata": {
        "id": "xwAw_TzqMvjj"
      },
      "execution_count": null,
      "outputs": []
    },
    {
      "cell_type": "code",
      "source": [
        "# Write a Python program to find the sum of all even numbers between 1 and 50\n",
        "print(sum(i for i in range(1, 51) if i % 2 == 0))\n"
      ],
      "metadata": {
        "id": "TQqDVdy-NIgP"
      },
      "execution_count": null,
      "outputs": []
    }
  ]
}